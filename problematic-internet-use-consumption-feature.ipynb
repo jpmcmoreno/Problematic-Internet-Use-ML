{
 "cells": [
  {
   "cell_type": "markdown",
   "id": "dbcee767",
   "metadata": {
    "papermill": {
     "duration": 0.006853,
     "end_time": "2024-10-16T06:30:53.261660",
     "exception": false,
     "start_time": "2024-10-16T06:30:53.254807",
     "status": "completed"
    },
    "tags": []
   },
   "source": [
    "# Introduction\n",
    "\n",
    "This is one of my notebooks with higher score among my submissions, scoring exactly 0.285. It's a simple approach using only the internet comsumption feature and a Logistic Regression model, I placed 1899 in the competition."
   ]
  },
  {
   "cell_type": "markdown",
   "id": "8395a061",
   "metadata": {
    "papermill": {
     "duration": 0.005665,
     "end_time": "2024-10-16T06:30:53.273832",
     "exception": false,
     "start_time": "2024-10-16T06:30:53.268167",
     "status": "completed"
    },
    "tags": []
   },
   "source": [
    "# 0. Import libraries."
   ]
  },
  {
   "cell_type": "code",
   "execution_count": 1,
   "id": "907e96b8",
   "metadata": {
    "execution": {
     "iopub.execute_input": "2024-10-16T06:30:53.287505Z",
     "iopub.status.busy": "2024-10-16T06:30:53.287059Z",
     "iopub.status.idle": "2024-10-16T06:30:54.293190Z",
     "shell.execute_reply": "2024-10-16T06:30:54.291965Z"
    },
    "papermill": {
     "duration": 1.016305,
     "end_time": "2024-10-16T06:30:54.296067",
     "exception": false,
     "start_time": "2024-10-16T06:30:53.279762",
     "status": "completed"
    },
    "tags": []
   },
   "outputs": [],
   "source": [
    "import pandas as pd\n",
    "import warnings\n",
    "warnings.filterwarnings('ignore')"
   ]
  },
  {
   "cell_type": "markdown",
   "id": "378e50bb",
   "metadata": {
    "papermill": {
     "duration": 0.005561,
     "end_time": "2024-10-16T06:30:54.307649",
     "exception": false,
     "start_time": "2024-10-16T06:30:54.302088",
     "status": "completed"
    },
    "tags": []
   },
   "source": [
    "# 1. Import data."
   ]
  },
  {
   "cell_type": "code",
   "execution_count": 2,
   "id": "b33efb42",
   "metadata": {
    "execution": {
     "iopub.execute_input": "2024-10-16T06:30:54.321742Z",
     "iopub.status.busy": "2024-10-16T06:30:54.321152Z",
     "iopub.status.idle": "2024-10-16T06:30:54.424026Z",
     "shell.execute_reply": "2024-10-16T06:30:54.422766Z"
    },
    "papermill": {
     "duration": 0.113458,
     "end_time": "2024-10-16T06:30:54.427038",
     "exception": false,
     "start_time": "2024-10-16T06:30:54.313580",
     "status": "completed"
    },
    "tags": []
   },
   "outputs": [],
   "source": [
    "train_df = pd.read_csv('/kaggle/input/child-mind-institute-problematic-internet-use/train.csv')\n",
    "test_df = pd.read_csv('/kaggle/input/child-mind-institute-problematic-internet-use/test.csv')"
   ]
  },
  {
   "cell_type": "markdown",
   "id": "2964fecf",
   "metadata": {
    "papermill": {
     "duration": 0.005643,
     "end_time": "2024-10-16T06:30:54.438645",
     "exception": false,
     "start_time": "2024-10-16T06:30:54.433002",
     "status": "completed"
    },
    "tags": []
   },
   "source": [
    "# 2. Feature selection."
   ]
  },
  {
   "cell_type": "code",
   "execution_count": 3,
   "id": "ff5f39db",
   "metadata": {
    "execution": {
     "iopub.execute_input": "2024-10-16T06:30:54.452485Z",
     "iopub.status.busy": "2024-10-16T06:30:54.452006Z",
     "iopub.status.idle": "2024-10-16T06:30:54.487373Z",
     "shell.execute_reply": "2024-10-16T06:30:54.486166Z"
    },
    "papermill": {
     "duration": 0.045415,
     "end_time": "2024-10-16T06:30:54.490047",
     "exception": false,
     "start_time": "2024-10-16T06:30:54.444632",
     "status": "completed"
    },
    "tags": []
   },
   "outputs": [
    {
     "data": {
      "text/html": [
       "<div>\n",
       "<style scoped>\n",
       "    .dataframe tbody tr th:only-of-type {\n",
       "        vertical-align: middle;\n",
       "    }\n",
       "\n",
       "    .dataframe tbody tr th {\n",
       "        vertical-align: top;\n",
       "    }\n",
       "\n",
       "    .dataframe thead th {\n",
       "        text-align: right;\n",
       "    }\n",
       "</style>\n",
       "<table border=\"1\" class=\"dataframe\">\n",
       "  <thead>\n",
       "    <tr style=\"text-align: right;\">\n",
       "      <th></th>\n",
       "      <th>PreInt_EduHx-computerinternet_hoursday</th>\n",
       "      <th>sii</th>\n",
       "    </tr>\n",
       "  </thead>\n",
       "  <tbody>\n",
       "    <tr>\n",
       "      <th>0</th>\n",
       "      <td>3.0</td>\n",
       "      <td>2.0</td>\n",
       "    </tr>\n",
       "    <tr>\n",
       "      <th>1</th>\n",
       "      <td>0.0</td>\n",
       "      <td>0.0</td>\n",
       "    </tr>\n",
       "    <tr>\n",
       "      <th>2</th>\n",
       "      <td>2.0</td>\n",
       "      <td>0.0</td>\n",
       "    </tr>\n",
       "    <tr>\n",
       "      <th>3</th>\n",
       "      <td>0.0</td>\n",
       "      <td>1.0</td>\n",
       "    </tr>\n",
       "    <tr>\n",
       "      <th>4</th>\n",
       "      <td>NaN</td>\n",
       "      <td>NaN</td>\n",
       "    </tr>\n",
       "    <tr>\n",
       "      <th>...</th>\n",
       "      <td>...</td>\n",
       "      <td>...</td>\n",
       "    </tr>\n",
       "    <tr>\n",
       "      <th>3955</th>\n",
       "      <td>1.0</td>\n",
       "      <td>1.0</td>\n",
       "    </tr>\n",
       "    <tr>\n",
       "      <th>3956</th>\n",
       "      <td>0.0</td>\n",
       "      <td>NaN</td>\n",
       "    </tr>\n",
       "    <tr>\n",
       "      <th>3957</th>\n",
       "      <td>0.0</td>\n",
       "      <td>1.0</td>\n",
       "    </tr>\n",
       "    <tr>\n",
       "      <th>3958</th>\n",
       "      <td>1.0</td>\n",
       "      <td>0.0</td>\n",
       "    </tr>\n",
       "    <tr>\n",
       "      <th>3959</th>\n",
       "      <td>1.0</td>\n",
       "      <td>NaN</td>\n",
       "    </tr>\n",
       "  </tbody>\n",
       "</table>\n",
       "<p>3960 rows × 2 columns</p>\n",
       "</div>"
      ],
      "text/plain": [
       "      PreInt_EduHx-computerinternet_hoursday  sii\n",
       "0                                        3.0  2.0\n",
       "1                                        0.0  0.0\n",
       "2                                        2.0  0.0\n",
       "3                                        0.0  1.0\n",
       "4                                        NaN  NaN\n",
       "...                                      ...  ...\n",
       "3955                                     1.0  1.0\n",
       "3956                                     0.0  NaN\n",
       "3957                                     0.0  1.0\n",
       "3958                                     1.0  0.0\n",
       "3959                                     1.0  NaN\n",
       "\n",
       "[3960 rows x 2 columns]"
      ]
     },
     "execution_count": 3,
     "metadata": {},
     "output_type": "execute_result"
    }
   ],
   "source": [
    "selected_train = train_df.copy()\n",
    "selected_train = selected_train[['PreInt_EduHx-computerinternet_hoursday',\n",
    "                                 'sii']]\n",
    "selected_train"
   ]
  },
  {
   "cell_type": "code",
   "execution_count": 4,
   "id": "e0d96503",
   "metadata": {
    "execution": {
     "iopub.execute_input": "2024-10-16T06:30:54.504478Z",
     "iopub.status.busy": "2024-10-16T06:30:54.504059Z",
     "iopub.status.idle": "2024-10-16T06:30:54.519632Z",
     "shell.execute_reply": "2024-10-16T06:30:54.518297Z"
    },
    "papermill": {
     "duration": 0.025941,
     "end_time": "2024-10-16T06:30:54.522349",
     "exception": false,
     "start_time": "2024-10-16T06:30:54.496408",
     "status": "completed"
    },
    "tags": []
   },
   "outputs": [
    {
     "data": {
      "text/html": [
       "<div>\n",
       "<style scoped>\n",
       "    .dataframe tbody tr th:only-of-type {\n",
       "        vertical-align: middle;\n",
       "    }\n",
       "\n",
       "    .dataframe tbody tr th {\n",
       "        vertical-align: top;\n",
       "    }\n",
       "\n",
       "    .dataframe thead th {\n",
       "        text-align: right;\n",
       "    }\n",
       "</style>\n",
       "<table border=\"1\" class=\"dataframe\">\n",
       "  <thead>\n",
       "    <tr style=\"text-align: right;\">\n",
       "      <th></th>\n",
       "      <th>PreInt_EduHx-computerinternet_hoursday</th>\n",
       "    </tr>\n",
       "  </thead>\n",
       "  <tbody>\n",
       "    <tr>\n",
       "      <th>0</th>\n",
       "      <td>3.0</td>\n",
       "    </tr>\n",
       "    <tr>\n",
       "      <th>1</th>\n",
       "      <td>0.0</td>\n",
       "    </tr>\n",
       "    <tr>\n",
       "      <th>2</th>\n",
       "      <td>2.0</td>\n",
       "    </tr>\n",
       "    <tr>\n",
       "      <th>3</th>\n",
       "      <td>0.0</td>\n",
       "    </tr>\n",
       "    <tr>\n",
       "      <th>4</th>\n",
       "      <td>NaN</td>\n",
       "    </tr>\n",
       "    <tr>\n",
       "      <th>5</th>\n",
       "      <td>0.0</td>\n",
       "    </tr>\n",
       "    <tr>\n",
       "      <th>6</th>\n",
       "      <td>3.0</td>\n",
       "    </tr>\n",
       "    <tr>\n",
       "      <th>7</th>\n",
       "      <td>2.0</td>\n",
       "    </tr>\n",
       "    <tr>\n",
       "      <th>8</th>\n",
       "      <td>2.0</td>\n",
       "    </tr>\n",
       "    <tr>\n",
       "      <th>9</th>\n",
       "      <td>NaN</td>\n",
       "    </tr>\n",
       "    <tr>\n",
       "      <th>10</th>\n",
       "      <td>NaN</td>\n",
       "    </tr>\n",
       "    <tr>\n",
       "      <th>11</th>\n",
       "      <td>0.0</td>\n",
       "    </tr>\n",
       "    <tr>\n",
       "      <th>12</th>\n",
       "      <td>1.0</td>\n",
       "    </tr>\n",
       "    <tr>\n",
       "      <th>13</th>\n",
       "      <td>NaN</td>\n",
       "    </tr>\n",
       "    <tr>\n",
       "      <th>14</th>\n",
       "      <td>2.0</td>\n",
       "    </tr>\n",
       "    <tr>\n",
       "      <th>15</th>\n",
       "      <td>2.0</td>\n",
       "    </tr>\n",
       "    <tr>\n",
       "      <th>16</th>\n",
       "      <td>0.0</td>\n",
       "    </tr>\n",
       "    <tr>\n",
       "      <th>17</th>\n",
       "      <td>1.0</td>\n",
       "    </tr>\n",
       "    <tr>\n",
       "      <th>18</th>\n",
       "      <td>3.0</td>\n",
       "    </tr>\n",
       "    <tr>\n",
       "      <th>19</th>\n",
       "      <td>2.0</td>\n",
       "    </tr>\n",
       "  </tbody>\n",
       "</table>\n",
       "</div>"
      ],
      "text/plain": [
       "    PreInt_EduHx-computerinternet_hoursday\n",
       "0                                      3.0\n",
       "1                                      0.0\n",
       "2                                      2.0\n",
       "3                                      0.0\n",
       "4                                      NaN\n",
       "5                                      0.0\n",
       "6                                      3.0\n",
       "7                                      2.0\n",
       "8                                      2.0\n",
       "9                                      NaN\n",
       "10                                     NaN\n",
       "11                                     0.0\n",
       "12                                     1.0\n",
       "13                                     NaN\n",
       "14                                     2.0\n",
       "15                                     2.0\n",
       "16                                     0.0\n",
       "17                                     1.0\n",
       "18                                     3.0\n",
       "19                                     2.0"
      ]
     },
     "execution_count": 4,
     "metadata": {},
     "output_type": "execute_result"
    }
   ],
   "source": [
    "selected_test = test_df.copy()\n",
    "selected_test = selected_test[['PreInt_EduHx-computerinternet_hoursday']]\n",
    "selected_test"
   ]
  },
  {
   "cell_type": "markdown",
   "id": "ba669ced",
   "metadata": {
    "papermill": {
     "duration": 0.006369,
     "end_time": "2024-10-16T06:30:54.536323",
     "exception": false,
     "start_time": "2024-10-16T06:30:54.529954",
     "status": "completed"
    },
    "tags": []
   },
   "source": [
    "# 3. Data preprocessing."
   ]
  },
  {
   "cell_type": "code",
   "execution_count": 5,
   "id": "e74740a4",
   "metadata": {
    "execution": {
     "iopub.execute_input": "2024-10-16T06:30:54.551400Z",
     "iopub.status.busy": "2024-10-16T06:30:54.550976Z",
     "iopub.status.idle": "2024-10-16T06:30:54.568272Z",
     "shell.execute_reply": "2024-10-16T06:30:54.567186Z"
    },
    "papermill": {
     "duration": 0.027891,
     "end_time": "2024-10-16T06:30:54.570795",
     "exception": false,
     "start_time": "2024-10-16T06:30:54.542904",
     "status": "completed"
    },
    "tags": []
   },
   "outputs": [
    {
     "data": {
      "text/html": [
       "<div>\n",
       "<style scoped>\n",
       "    .dataframe tbody tr th:only-of-type {\n",
       "        vertical-align: middle;\n",
       "    }\n",
       "\n",
       "    .dataframe tbody tr th {\n",
       "        vertical-align: top;\n",
       "    }\n",
       "\n",
       "    .dataframe thead th {\n",
       "        text-align: right;\n",
       "    }\n",
       "</style>\n",
       "<table border=\"1\" class=\"dataframe\">\n",
       "  <thead>\n",
       "    <tr style=\"text-align: right;\">\n",
       "      <th></th>\n",
       "      <th>PreInt_EduHx-computerinternet_hoursday</th>\n",
       "      <th>sii</th>\n",
       "    </tr>\n",
       "  </thead>\n",
       "  <tbody>\n",
       "    <tr>\n",
       "      <th>0</th>\n",
       "      <td>3.0</td>\n",
       "      <td>2.0</td>\n",
       "    </tr>\n",
       "    <tr>\n",
       "      <th>1</th>\n",
       "      <td>0.0</td>\n",
       "      <td>0.0</td>\n",
       "    </tr>\n",
       "    <tr>\n",
       "      <th>2</th>\n",
       "      <td>2.0</td>\n",
       "      <td>0.0</td>\n",
       "    </tr>\n",
       "    <tr>\n",
       "      <th>3</th>\n",
       "      <td>0.0</td>\n",
       "      <td>1.0</td>\n",
       "    </tr>\n",
       "    <tr>\n",
       "      <th>4</th>\n",
       "      <td>0.0</td>\n",
       "      <td>0.0</td>\n",
       "    </tr>\n",
       "    <tr>\n",
       "      <th>...</th>\n",
       "      <td>...</td>\n",
       "      <td>...</td>\n",
       "    </tr>\n",
       "    <tr>\n",
       "      <th>3955</th>\n",
       "      <td>1.0</td>\n",
       "      <td>1.0</td>\n",
       "    </tr>\n",
       "    <tr>\n",
       "      <th>3956</th>\n",
       "      <td>0.0</td>\n",
       "      <td>0.0</td>\n",
       "    </tr>\n",
       "    <tr>\n",
       "      <th>3957</th>\n",
       "      <td>0.0</td>\n",
       "      <td>1.0</td>\n",
       "    </tr>\n",
       "    <tr>\n",
       "      <th>3958</th>\n",
       "      <td>1.0</td>\n",
       "      <td>0.0</td>\n",
       "    </tr>\n",
       "    <tr>\n",
       "      <th>3959</th>\n",
       "      <td>1.0</td>\n",
       "      <td>0.0</td>\n",
       "    </tr>\n",
       "  </tbody>\n",
       "</table>\n",
       "<p>3960 rows × 2 columns</p>\n",
       "</div>"
      ],
      "text/plain": [
       "      PreInt_EduHx-computerinternet_hoursday  sii\n",
       "0                                        3.0  2.0\n",
       "1                                        0.0  0.0\n",
       "2                                        2.0  0.0\n",
       "3                                        0.0  1.0\n",
       "4                                        0.0  0.0\n",
       "...                                      ...  ...\n",
       "3955                                     1.0  1.0\n",
       "3956                                     0.0  0.0\n",
       "3957                                     0.0  1.0\n",
       "3958                                     1.0  0.0\n",
       "3959                                     1.0  0.0\n",
       "\n",
       "[3960 rows x 2 columns]"
      ]
     },
     "execution_count": 5,
     "metadata": {},
     "output_type": "execute_result"
    }
   ],
   "source": [
    "selected_train.fillna(0, inplace=True)\n",
    "selected_train['sii'] = selected_train.pop('sii')\n",
    "selected_train"
   ]
  },
  {
   "cell_type": "code",
   "execution_count": 6,
   "id": "dc37c963",
   "metadata": {
    "execution": {
     "iopub.execute_input": "2024-10-16T06:30:54.586535Z",
     "iopub.status.busy": "2024-10-16T06:30:54.586025Z",
     "iopub.status.idle": "2024-10-16T06:30:54.601004Z",
     "shell.execute_reply": "2024-10-16T06:30:54.599802Z"
    },
    "papermill": {
     "duration": 0.025755,
     "end_time": "2024-10-16T06:30:54.603547",
     "exception": false,
     "start_time": "2024-10-16T06:30:54.577792",
     "status": "completed"
    },
    "tags": []
   },
   "outputs": [
    {
     "data": {
      "text/html": [
       "<div>\n",
       "<style scoped>\n",
       "    .dataframe tbody tr th:only-of-type {\n",
       "        vertical-align: middle;\n",
       "    }\n",
       "\n",
       "    .dataframe tbody tr th {\n",
       "        vertical-align: top;\n",
       "    }\n",
       "\n",
       "    .dataframe thead th {\n",
       "        text-align: right;\n",
       "    }\n",
       "</style>\n",
       "<table border=\"1\" class=\"dataframe\">\n",
       "  <thead>\n",
       "    <tr style=\"text-align: right;\">\n",
       "      <th></th>\n",
       "      <th>PreInt_EduHx-computerinternet_hoursday</th>\n",
       "    </tr>\n",
       "  </thead>\n",
       "  <tbody>\n",
       "    <tr>\n",
       "      <th>0</th>\n",
       "      <td>3.0</td>\n",
       "    </tr>\n",
       "    <tr>\n",
       "      <th>1</th>\n",
       "      <td>0.0</td>\n",
       "    </tr>\n",
       "    <tr>\n",
       "      <th>2</th>\n",
       "      <td>2.0</td>\n",
       "    </tr>\n",
       "    <tr>\n",
       "      <th>3</th>\n",
       "      <td>0.0</td>\n",
       "    </tr>\n",
       "    <tr>\n",
       "      <th>4</th>\n",
       "      <td>0.0</td>\n",
       "    </tr>\n",
       "    <tr>\n",
       "      <th>5</th>\n",
       "      <td>0.0</td>\n",
       "    </tr>\n",
       "    <tr>\n",
       "      <th>6</th>\n",
       "      <td>3.0</td>\n",
       "    </tr>\n",
       "    <tr>\n",
       "      <th>7</th>\n",
       "      <td>2.0</td>\n",
       "    </tr>\n",
       "    <tr>\n",
       "      <th>8</th>\n",
       "      <td>2.0</td>\n",
       "    </tr>\n",
       "    <tr>\n",
       "      <th>9</th>\n",
       "      <td>0.0</td>\n",
       "    </tr>\n",
       "    <tr>\n",
       "      <th>10</th>\n",
       "      <td>0.0</td>\n",
       "    </tr>\n",
       "    <tr>\n",
       "      <th>11</th>\n",
       "      <td>0.0</td>\n",
       "    </tr>\n",
       "    <tr>\n",
       "      <th>12</th>\n",
       "      <td>1.0</td>\n",
       "    </tr>\n",
       "    <tr>\n",
       "      <th>13</th>\n",
       "      <td>0.0</td>\n",
       "    </tr>\n",
       "    <tr>\n",
       "      <th>14</th>\n",
       "      <td>2.0</td>\n",
       "    </tr>\n",
       "    <tr>\n",
       "      <th>15</th>\n",
       "      <td>2.0</td>\n",
       "    </tr>\n",
       "    <tr>\n",
       "      <th>16</th>\n",
       "      <td>0.0</td>\n",
       "    </tr>\n",
       "    <tr>\n",
       "      <th>17</th>\n",
       "      <td>1.0</td>\n",
       "    </tr>\n",
       "    <tr>\n",
       "      <th>18</th>\n",
       "      <td>3.0</td>\n",
       "    </tr>\n",
       "    <tr>\n",
       "      <th>19</th>\n",
       "      <td>2.0</td>\n",
       "    </tr>\n",
       "  </tbody>\n",
       "</table>\n",
       "</div>"
      ],
      "text/plain": [
       "    PreInt_EduHx-computerinternet_hoursday\n",
       "0                                      3.0\n",
       "1                                      0.0\n",
       "2                                      2.0\n",
       "3                                      0.0\n",
       "4                                      0.0\n",
       "5                                      0.0\n",
       "6                                      3.0\n",
       "7                                      2.0\n",
       "8                                      2.0\n",
       "9                                      0.0\n",
       "10                                     0.0\n",
       "11                                     0.0\n",
       "12                                     1.0\n",
       "13                                     0.0\n",
       "14                                     2.0\n",
       "15                                     2.0\n",
       "16                                     0.0\n",
       "17                                     1.0\n",
       "18                                     3.0\n",
       "19                                     2.0"
      ]
     },
     "execution_count": 6,
     "metadata": {},
     "output_type": "execute_result"
    }
   ],
   "source": [
    "selected_test.fillna(0, inplace=True)\n",
    "selected_test"
   ]
  },
  {
   "cell_type": "markdown",
   "id": "4b977f13",
   "metadata": {
    "papermill": {
     "duration": 0.006897,
     "end_time": "2024-10-16T06:30:54.617748",
     "exception": false,
     "start_time": "2024-10-16T06:30:54.610851",
     "status": "completed"
    },
    "tags": []
   },
   "source": [
    "# 4. Model training."
   ]
  },
  {
   "cell_type": "code",
   "execution_count": 7,
   "id": "8633c6da",
   "metadata": {
    "execution": {
     "iopub.execute_input": "2024-10-16T06:30:54.633893Z",
     "iopub.status.busy": "2024-10-16T06:30:54.633461Z",
     "iopub.status.idle": "2024-10-16T06:30:56.443752Z",
     "shell.execute_reply": "2024-10-16T06:30:56.442082Z"
    },
    "papermill": {
     "duration": 1.8232,
     "end_time": "2024-10-16T06:30:56.448204",
     "exception": false,
     "start_time": "2024-10-16T06:30:54.625004",
     "status": "completed"
    },
    "tags": []
   },
   "outputs": [],
   "source": [
    "from sklearn.model_selection import train_test_split\n",
    "from sklearn.preprocessing import MinMaxScaler\n",
    "from sklearn.linear_model import LogisticRegression\n",
    "from sklearn.metrics import accuracy_score, classification_report\n",
    "\n",
    "X = selected_train.drop(columns=['sii'])  \n",
    "y = selected_train['sii']  \n",
    "\n",
    "scaler = MinMaxScaler()\n",
    "X = scaler.fit_transform(X)\n",
    "\n",
    "X_train, X_test, y_train, y_test = train_test_split(X, y, test_size=0.3, random_state=42)\n",
    "\n",
    "model = LogisticRegression(random_state=42)\n",
    "\n",
    "model.fit(X_train, y_train)\n",
    "\n",
    "y_pred = model.predict(X_test)"
   ]
  },
  {
   "cell_type": "markdown",
   "id": "838b2fe6",
   "metadata": {
    "papermill": {
     "duration": 0.014165,
     "end_time": "2024-10-16T06:30:56.477110",
     "exception": false,
     "start_time": "2024-10-16T06:30:56.462945",
     "status": "completed"
    },
    "tags": []
   },
   "source": [
    "# 5. Evaluation."
   ]
  },
  {
   "cell_type": "code",
   "execution_count": 8,
   "id": "9f553111",
   "metadata": {
    "execution": {
     "iopub.execute_input": "2024-10-16T06:30:56.510045Z",
     "iopub.status.busy": "2024-10-16T06:30:56.509033Z",
     "iopub.status.idle": "2024-10-16T06:30:56.540384Z",
     "shell.execute_reply": "2024-10-16T06:30:56.538921Z"
    },
    "papermill": {
     "duration": 0.053989,
     "end_time": "2024-10-16T06:30:56.545758",
     "exception": false,
     "start_time": "2024-10-16T06:30:56.491769",
     "status": "completed"
    },
    "tags": []
   },
   "outputs": [
    {
     "name": "stdout",
     "output_type": "stream",
     "text": [
      "Accuracy: 0.7070707070707071\n",
      "Report:\n",
      "              precision    recall  f1-score   support\n",
      "\n",
      "         0.0       0.71      1.00      0.83       840\n",
      "         1.0       0.00      0.00      0.00       216\n",
      "         2.0       0.00      0.00      0.00       120\n",
      "         3.0       0.00      0.00      0.00        12\n",
      "\n",
      "    accuracy                           0.71      1188\n",
      "   macro avg       0.18      0.25      0.21      1188\n",
      "weighted avg       0.50      0.71      0.59      1188\n",
      "\n"
     ]
    }
   ],
   "source": [
    "accuracy = accuracy_score(y_test, y_pred)\n",
    "report = classification_report(y_test, y_pred)\n",
    "\n",
    "print(f\"Accuracy: {accuracy}\")\n",
    "print(\"Report:\")\n",
    "print(report)"
   ]
  },
  {
   "cell_type": "markdown",
   "id": "f72753e9",
   "metadata": {
    "papermill": {
     "duration": 0.007021,
     "end_time": "2024-10-16T06:30:56.567661",
     "exception": false,
     "start_time": "2024-10-16T06:30:56.560640",
     "status": "completed"
    },
    "tags": []
   },
   "source": [
    "# 6. Model output."
   ]
  },
  {
   "cell_type": "code",
   "execution_count": 9,
   "id": "a2c1a3b2",
   "metadata": {
    "execution": {
     "iopub.execute_input": "2024-10-16T06:30:56.584110Z",
     "iopub.status.busy": "2024-10-16T06:30:56.583646Z",
     "iopub.status.idle": "2024-10-16T06:30:56.599637Z",
     "shell.execute_reply": "2024-10-16T06:30:56.598519Z"
    },
    "papermill": {
     "duration": 0.027337,
     "end_time": "2024-10-16T06:30:56.602221",
     "exception": false,
     "start_time": "2024-10-16T06:30:56.574884",
     "status": "completed"
    },
    "tags": []
   },
   "outputs": [
    {
     "data": {
      "text/html": [
       "<div>\n",
       "<style scoped>\n",
       "    .dataframe tbody tr th:only-of-type {\n",
       "        vertical-align: middle;\n",
       "    }\n",
       "\n",
       "    .dataframe tbody tr th {\n",
       "        vertical-align: top;\n",
       "    }\n",
       "\n",
       "    .dataframe thead th {\n",
       "        text-align: right;\n",
       "    }\n",
       "</style>\n",
       "<table border=\"1\" class=\"dataframe\">\n",
       "  <thead>\n",
       "    <tr style=\"text-align: right;\">\n",
       "      <th></th>\n",
       "      <th>id</th>\n",
       "      <th>sii</th>\n",
       "    </tr>\n",
       "  </thead>\n",
       "  <tbody>\n",
       "    <tr>\n",
       "      <th>0</th>\n",
       "      <td>00008ff9</td>\n",
       "      <td>2</td>\n",
       "    </tr>\n",
       "    <tr>\n",
       "      <th>1</th>\n",
       "      <td>000fd460</td>\n",
       "      <td>0</td>\n",
       "    </tr>\n",
       "    <tr>\n",
       "      <th>2</th>\n",
       "      <td>00105258</td>\n",
       "      <td>2</td>\n",
       "    </tr>\n",
       "    <tr>\n",
       "      <th>3</th>\n",
       "      <td>00115b9f</td>\n",
       "      <td>0</td>\n",
       "    </tr>\n",
       "    <tr>\n",
       "      <th>4</th>\n",
       "      <td>0016bb22</td>\n",
       "      <td>0</td>\n",
       "    </tr>\n",
       "    <tr>\n",
       "      <th>5</th>\n",
       "      <td>001f3379</td>\n",
       "      <td>0</td>\n",
       "    </tr>\n",
       "    <tr>\n",
       "      <th>6</th>\n",
       "      <td>0038ba98</td>\n",
       "      <td>2</td>\n",
       "    </tr>\n",
       "    <tr>\n",
       "      <th>7</th>\n",
       "      <td>0068a485</td>\n",
       "      <td>2</td>\n",
       "    </tr>\n",
       "    <tr>\n",
       "      <th>8</th>\n",
       "      <td>0069fbed</td>\n",
       "      <td>2</td>\n",
       "    </tr>\n",
       "    <tr>\n",
       "      <th>9</th>\n",
       "      <td>0083e397</td>\n",
       "      <td>0</td>\n",
       "    </tr>\n",
       "    <tr>\n",
       "      <th>10</th>\n",
       "      <td>0087dd65</td>\n",
       "      <td>0</td>\n",
       "    </tr>\n",
       "    <tr>\n",
       "      <th>11</th>\n",
       "      <td>00abe655</td>\n",
       "      <td>0</td>\n",
       "    </tr>\n",
       "    <tr>\n",
       "      <th>12</th>\n",
       "      <td>00ae59c9</td>\n",
       "      <td>0</td>\n",
       "    </tr>\n",
       "    <tr>\n",
       "      <th>13</th>\n",
       "      <td>00af6387</td>\n",
       "      <td>0</td>\n",
       "    </tr>\n",
       "    <tr>\n",
       "      <th>14</th>\n",
       "      <td>00bd4359</td>\n",
       "      <td>2</td>\n",
       "    </tr>\n",
       "    <tr>\n",
       "      <th>15</th>\n",
       "      <td>00c0cd71</td>\n",
       "      <td>2</td>\n",
       "    </tr>\n",
       "    <tr>\n",
       "      <th>16</th>\n",
       "      <td>00d56d4b</td>\n",
       "      <td>0</td>\n",
       "    </tr>\n",
       "    <tr>\n",
       "      <th>17</th>\n",
       "      <td>00d9913d</td>\n",
       "      <td>0</td>\n",
       "    </tr>\n",
       "    <tr>\n",
       "      <th>18</th>\n",
       "      <td>00e6167c</td>\n",
       "      <td>2</td>\n",
       "    </tr>\n",
       "    <tr>\n",
       "      <th>19</th>\n",
       "      <td>00ebc35d</td>\n",
       "      <td>2</td>\n",
       "    </tr>\n",
       "  </tbody>\n",
       "</table>\n",
       "</div>"
      ],
      "text/plain": [
       "          id  sii\n",
       "0   00008ff9    2\n",
       "1   000fd460    0\n",
       "2   00105258    2\n",
       "3   00115b9f    0\n",
       "4   0016bb22    0\n",
       "5   001f3379    0\n",
       "6   0038ba98    2\n",
       "7   0068a485    2\n",
       "8   0069fbed    2\n",
       "9   0083e397    0\n",
       "10  0087dd65    0\n",
       "11  00abe655    0\n",
       "12  00ae59c9    0\n",
       "13  00af6387    0\n",
       "14  00bd4359    2\n",
       "15  00c0cd71    2\n",
       "16  00d56d4b    0\n",
       "17  00d9913d    0\n",
       "18  00e6167c    2\n",
       "19  00ebc35d    2"
      ]
     },
     "execution_count": 9,
     "metadata": {},
     "output_type": "execute_result"
    }
   ],
   "source": [
    "predictions = model.predict(selected_test).astype(int)\n",
    "\n",
    "predictions_df = pd.DataFrame({\n",
    "    'id': test_df['id'],  \n",
    "    'sii': predictions  \n",
    "})\n",
    "\n",
    "predictions_df"
   ]
  },
  {
   "cell_type": "code",
   "execution_count": 10,
   "id": "f9b48c44",
   "metadata": {
    "execution": {
     "iopub.execute_input": "2024-10-16T06:30:56.619428Z",
     "iopub.status.busy": "2024-10-16T06:30:56.619006Z",
     "iopub.status.idle": "2024-10-16T06:30:56.628378Z",
     "shell.execute_reply": "2024-10-16T06:30:56.627155Z"
    },
    "papermill": {
     "duration": 0.021382,
     "end_time": "2024-10-16T06:30:56.631263",
     "exception": false,
     "start_time": "2024-10-16T06:30:56.609881",
     "status": "completed"
    },
    "tags": []
   },
   "outputs": [],
   "source": [
    "predictions_df.to_csv('/kaggle/working/submission.csv', index=False)"
   ]
  }
 ],
 "metadata": {
  "kaggle": {
   "accelerator": "none",
   "dataSources": [
    {
     "databundleVersionId": 9643020,
     "sourceId": 81933,
     "sourceType": "competition"
    }
   ],
   "dockerImageVersionId": 30786,
   "isGpuEnabled": false,
   "isInternetEnabled": false,
   "language": "python",
   "sourceType": "notebook"
  },
  "kernelspec": {
   "display_name": "Python 3",
   "language": "python",
   "name": "python3"
  },
  "language_info": {
   "codemirror_mode": {
    "name": "ipython",
    "version": 3
   },
   "file_extension": ".py",
   "mimetype": "text/x-python",
   "name": "python",
   "nbconvert_exporter": "python",
   "pygments_lexer": "ipython3",
   "version": "3.10.14"
  },
  "papermill": {
   "default_parameters": {},
   "duration": 7.197483,
   "end_time": "2024-10-16T06:30:57.261177",
   "environment_variables": {},
   "exception": null,
   "input_path": "__notebook__.ipynb",
   "output_path": "__notebook__.ipynb",
   "parameters": {},
   "start_time": "2024-10-16T06:30:50.063694",
   "version": "2.6.0"
  }
 },
 "nbformat": 4,
 "nbformat_minor": 5
}
